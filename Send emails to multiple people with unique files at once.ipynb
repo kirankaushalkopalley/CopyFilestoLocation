{
 "cells": [
  {
   "cell_type": "code",
   "execution_count": 104,
   "metadata": {},
   "outputs": [
    {
     "data": {
      "text/html": [
       "<div>\n",
       "<style scoped>\n",
       "    .dataframe tbody tr th:only-of-type {\n",
       "        vertical-align: middle;\n",
       "    }\n",
       "\n",
       "    .dataframe tbody tr th {\n",
       "        vertical-align: top;\n",
       "    }\n",
       "\n",
       "    .dataframe thead th {\n",
       "        text-align: right;\n",
       "    }\n",
       "</style>\n",
       "<table border=\"1\" class=\"dataframe\">\n",
       "  <thead>\n",
       "    <tr style=\"text-align: right;\">\n",
       "      <th></th>\n",
       "      <th>Username</th>\n",
       "      <th>email</th>\n",
       "      <th>filename</th>\n",
       "    </tr>\n",
       "  </thead>\n",
       "  <tbody>\n",
       "    <tr>\n",
       "      <th>0</th>\n",
       "      <td>Kiran</td>\n",
       "      <td>kkopalley@primeres.com</td>\n",
       "      <td>Sample.xlsx</td>\n",
       "    </tr>\n",
       "    <tr>\n",
       "      <th>1</th>\n",
       "      <td>Kiran</td>\n",
       "      <td>kkopalley@primeres.com</td>\n",
       "      <td>myQR.png</td>\n",
       "    </tr>\n",
       "  </tbody>\n",
       "</table>\n",
       "</div>"
      ],
      "text/plain": [
       "  Username                   email     filename\n",
       "0    Kiran  kkopalley@primeres.com  Sample.xlsx\n",
       "1    Kiran  kkopalley@primeres.com     myQR.png"
      ]
     },
     "execution_count": 104,
     "metadata": {},
     "output_type": "execute_result"
    }
   ],
   "source": [
    "import pandas as pd\n",
    "import smtplib \n",
    "from email.mime.multipart import MIMEMultipart \n",
    "from email.mime.text import MIMEText \n",
    "from email.mime.base import MIMEBase \n",
    "from email import encoders \n",
    "import getpass\n",
    "\n",
    "df = pd.read_excel('Users.xlsx')\n",
    "df"
   ]
  },
  {
   "cell_type": "code",
   "execution_count": 110,
   "metadata": {},
   "outputs": [
    {
     "name": "stdout",
     "output_type": "stream",
     "text": [
      "Enter your FROM email address:kkaushal95@outlook.com\n",
      "You entered kkaushal95@outlook.com\n",
      "Enter your password:\n",
      "········\n",
      "['kkopalley@primeres.com', 'kkopalley@primeres.com']\n",
      "['Sample.xlsx', 'myQR.png']\n"
     ]
    }
   ],
   "source": [
    "fromaddr = input('Enter your FROM email address:')\n",
    "print('You entered '+fromaddr)\n",
    "print('Enter your password:')\n",
    "password = getpass.getpass()\n",
    "#print(password)\n",
    "\n",
    "toaddr = df['email'].tolist()\n",
    "print(toaddr)\n",
    "filename = df['filename'].tolist()\n",
    "print(filename)"
   ]
  },
  {
   "cell_type": "code",
   "execution_count": 106,
   "metadata": {},
   "outputs": [
    {
     "name": "stdout",
     "output_type": "stream",
     "text": [
      "1\tkkopalley@primeres.com\tSample.xlsx\n",
      "2\tkkopalley@primeres.com\tmyQR.png\n",
      "Emails sent successfully\n"
     ]
    }
   ],
   "source": [
    "print('Started sending emails to all the users in the list')\n",
    "for index, row in df.iterrows():\n",
    "    print(str(index+1)+'\\t'+row[\"email\"]+'\\t'+row[\"filename\"])\n",
    "    msg = MIMEMultipart()\n",
    "    msg['From'] = fromaddr\n",
    "    msg['Subject'] = 'Please find attachment'\n",
    "    body =  'Hi! '+row['Username']+ '''\n",
    "    Check the attachment. \n",
    "    '''\n",
    "    msg.attach(MIMEText(body, 'plain'))\n",
    "    filename = row[\"filename\"]\n",
    "    toaddr = row[\"email\"]\n",
    "    attachment = open(row[\"filename\"], \"rb\")\n",
    "    part = MIMEBase('application', 'octet-stream')\n",
    "    part.set_payload((attachment).read())\n",
    "    encoders.encode_base64(part)\n",
    "    part.add_header('Content-Disposition', \"attachment; filename= %s\" % filename)\n",
    "    s = smtplib.SMTP('smtp-mail.outlook.com', 587)\n",
    "    #s.connect('email.prmi.asp', 25)\n",
    "    s.ehlo()\n",
    "    s.starttls() \n",
    "    s.login(fromaddr, 'bZ2-^&Q(') \n",
    "    msg.attach(part)\n",
    "    text = msg.as_string()\n",
    "    s.sendmail(fromaddr, toaddr, text)\n",
    "    s.quit() \n",
    "print(\"Emails sent to all the users in the list successfully\")\n"
   ]
  },
  {
   "cell_type": "markdown",
   "metadata": {},
   "source": [
    "# Smaller version of the above program"
   ]
  },
  {
   "cell_type": "code",
   "execution_count": 111,
   "metadata": {},
   "outputs": [
    {
     "name": "stdout",
     "output_type": "stream",
     "text": [
      "Email sent\n"
     ]
    }
   ],
   "source": [
    "import smtplib                          \n",
    "smtpServer='smtp-mail.outlook.com'      \n",
    "fromAddr='kkaushal95@outlook.com'         \n",
    "toAddr='kkopalley@primeres.com'     \n",
    "text= \"This is a test of sending email from Python.\"\n",
    "server = smtplib.SMTP(smtpServer, 587)\n",
    "server.ehlo()\n",
    "server.starttls()\n",
    "server.login(fromAddr, 'bZ2-^&Q(')\n",
    "server.sendmail(fromAddr, toAddr, text) \n",
    "server.quit()\n",
    "print('Email sent')"
   ]
  },
  {
   "cell_type": "code",
   "execution_count": null,
   "metadata": {},
   "outputs": [],
   "source": []
  }
 ],
 "metadata": {
  "kernelspec": {
   "display_name": "Python 3",
   "language": "python",
   "name": "python3"
  },
  "language_info": {
   "codemirror_mode": {
    "name": "ipython",
    "version": 3
   },
   "file_extension": ".py",
   "mimetype": "text/x-python",
   "name": "python",
   "nbconvert_exporter": "python",
   "pygments_lexer": "ipython3",
   "version": "3.8.8"
  }
 },
 "nbformat": 4,
 "nbformat_minor": 2
}
