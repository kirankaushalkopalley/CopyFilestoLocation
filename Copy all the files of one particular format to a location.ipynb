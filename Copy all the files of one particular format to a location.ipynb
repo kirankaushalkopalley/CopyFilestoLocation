{
 "cells": [
  {
   "cell_type": "code",
   "execution_count": 4,
   "id": "aa238f2d",
   "metadata": {},
   "outputs": [
    {
     "name": "stdout",
     "output_type": "stream",
     "text": [
      "Enter the source path from where the files need to be copied:C:\\Users\\kkopalley\\Downloads\n",
      "Enter the destination path to copy files:C:\\Users\\kkopalley\\OneDrive - Primary Residential Mortgage\\Documents\n",
      "Enter the file format:pdf\n",
      "-----Starting to copy files-------\n",
      "C:\\Users\\kkopalley\\Downloads\\2ZO_404a5.pdf\n",
      "C:\\Users\\kkopalley\\Downloads\\2ZO_SPD.pdf\n",
      "-----All the files copied to destination-------------\n"
     ]
    }
   ],
   "source": [
    "import glob, os, shutil\n",
    "\n",
    "#Enter the source and destination directory path\n",
    "sourceDirectory = input('Enter the source path from where the files need to be copied:')\n",
    "destinationDirectory = input('Enter the destination path to copy files:')\n",
    "#Enter the file format which needs to be copied and pasted\n",
    "fileFormat = input('Enter the file format:')\n",
    "#fetching all the files of that extension to a list\n",
    "files = glob.iglob(os.path.join(sourceDirectory, \"*.\"+fileFormat))\n",
    "#running a loop to copy all the files one by one to the destination\n",
    "print('------------Starting to copy files--------------')\n",
    "for file in files:\n",
    "    print(file)\n",
    "    if os.path.isfile(file):\n",
    "        shutil.copy2(file, destinationDirectory)\n",
    "print('-----All the files copied to destination-------------')"
   ]
  },
  {
   "cell_type": "code",
   "execution_count": null,
   "id": "2b23eda2",
   "metadata": {},
   "outputs": [],
   "source": []
  }
 ],
 "metadata": {
  "kernelspec": {
   "display_name": "Python 3",
   "language": "python",
   "name": "python3"
  },
  "language_info": {
   "codemirror_mode": {
    "name": "ipython",
    "version": 3
   },
   "file_extension": ".py",
   "mimetype": "text/x-python",
   "name": "python",
   "nbconvert_exporter": "python",
   "pygments_lexer": "ipython3",
   "version": "3.8.8"
  }
 },
 "nbformat": 4,
 "nbformat_minor": 5
}
